{
 "cells": [
  {
   "cell_type": "markdown",
   "metadata": {},
   "source": [
    "## Import libraries"
   ]
  },
  {
   "cell_type": "code",
   "execution_count": 32,
   "metadata": {},
   "outputs": [],
   "source": [
    "import pandas as pd\n",
    "\n",
    "import preprocess as pp\n",
    "\n",
    "from pyspark import SparkContext\n",
    "from pyspark.sql import SparkSession\n",
    "from pyspark.sql import SQLContext\n",
    "from pyspark.sql.functions import length\n",
    "from pyspark.sql.functions import col\n",
    "\n",
    "from pyspark.ml.feature import Tokenizer,StopWordsRemover,CountVectorizer,IDF,StringIndexer\n",
    "from pyspark.ml.feature import VectorAssembler\n",
    "from pyspark.ml.linalg import Vector\n",
    "from pyspark.ml.classification import NaiveBayes\n",
    "from pyspark.ml import Pipeline\n",
    "from pyspark.ml.evaluation import MulticlassClassificationEvaluator\n",
    "\n",
    "import seaborn as sns\n",
    "from matplotlib import pyplot as plt"
   ]
  },
  {
   "cell_type": "markdown",
   "metadata": {},
   "source": [
    "## Data Preparation and General Basic Exploration"
   ]
  },
  {
   "cell_type": "code",
   "execution_count": 33,
   "metadata": {},
   "outputs": [
    {
     "name": "stdout",
     "output_type": "stream",
     "text": [
      "Number of Samples 4478\n",
      "Number of Intent 21\n"
     ]
    }
   ],
   "source": [
    "output,labels = pp.preprocess('train.iob')"
   ]
  },
  {
   "cell_type": "markdown",
   "metadata": {},
   "source": [
    "There are 4,478 rows of data in the training data set with 21 different labels that describe intent.\n",
    "\n",
    "Note: Prior to preprocessing, the \"BOS\" airport code was found at the beginning of every row. We can infer/assume from this that all of the text was collected in the data set is from the Boston Logan Airport. "
   ]
  },
  {
   "cell_type": "code",
   "execution_count": 3,
   "metadata": {},
   "outputs": [
    {
     "data": {
      "text/html": [
       "<div>\n",
       "<style scoped>\n",
       "    .dataframe tbody tr th:only-of-type {\n",
       "        vertical-align: middle;\n",
       "    }\n",
       "\n",
       "    .dataframe tbody tr th {\n",
       "        vertical-align: top;\n",
       "    }\n",
       "\n",
       "    .dataframe thead th {\n",
       "        text-align: right;\n",
       "    }\n",
       "</style>\n",
       "<table border=\"1\" class=\"dataframe\">\n",
       "  <thead>\n",
       "    <tr style=\"text-align: right;\">\n",
       "      <th></th>\n",
       "      <th>intent</th>\n",
       "      <th>tags</th>\n",
       "      <th>text</th>\n",
       "    </tr>\n",
       "  </thead>\n",
       "  <tbody>\n",
       "    <tr>\n",
       "      <th>0</th>\n",
       "      <td>atis_flight</td>\n",
       "      <td>EOS O O O O O O B-fromloc.city_name O B-toloc...</td>\n",
       "      <td>i want to fly from baltimore to dallas round ...</td>\n",
       "    </tr>\n",
       "    <tr>\n",
       "      <th>1</th>\n",
       "      <td>atis_airfare</td>\n",
       "      <td>EOS O B-round_trip I-round_trip O O B-fromloc...</td>\n",
       "      <td>round trip fares from baltimore to philadelph...</td>\n",
       "    </tr>\n",
       "    <tr>\n",
       "      <th>2</th>\n",
       "      <td>atis_flight</td>\n",
       "      <td>EOS O O O O O O O B-toloc.city_name O B-arriv...</td>\n",
       "      <td>show me the flights arriving on baltimore on ...</td>\n",
       "    </tr>\n",
       "    <tr>\n",
       "      <th>3</th>\n",
       "      <td>atis_flight</td>\n",
       "      <td>EOS O O O O O O O O B-fromloc.city_name I-fro...</td>\n",
       "      <td>what are the flights which depart from san fr...</td>\n",
       "    </tr>\n",
       "    <tr>\n",
       "      <th>4</th>\n",
       "      <td>atis_airline</td>\n",
       "      <td>EOS O O O O O B-fromloc.city_name O B-toloc.c...</td>\n",
       "      <td>which airlines fly from boston to washington ...</td>\n",
       "    </tr>\n",
       "  </tbody>\n",
       "</table>\n",
       "</div>"
      ],
      "text/plain": [
       "         intent                                               tags  \\\n",
       "0   atis_flight   EOS O O O O O O B-fromloc.city_name O B-toloc...   \n",
       "1  atis_airfare   EOS O B-round_trip I-round_trip O O B-fromloc...   \n",
       "2   atis_flight   EOS O O O O O O O B-toloc.city_name O B-arriv...   \n",
       "3   atis_flight   EOS O O O O O O O O B-fromloc.city_name I-fro...   \n",
       "4  atis_airline   EOS O O O O O B-fromloc.city_name O B-toloc.c...   \n",
       "\n",
       "                                                text  \n",
       "0   i want to fly from baltimore to dallas round ...  \n",
       "1   round trip fares from baltimore to philadelph...  \n",
       "2   show me the flights arriving on baltimore on ...  \n",
       "3   what are the flights which depart from san fr...  \n",
       "4   which airlines fly from boston to washington ...  "
      ]
     },
     "execution_count": 3,
     "metadata": {},
     "output_type": "execute_result"
    }
   ],
   "source": [
    "df = pd.DataFrame.from_dict(output, orient='columns')\n",
    "df.head()"
   ]
  },
  {
   "cell_type": "markdown",
   "metadata": {},
   "source": [
    "There are 3 columns in the preprocessed dataset - one with labels that we want to predict called \"intent\". \n",
    "The second column is a common tagging notation characteristic of iob files for chunking in NLP called \"tags\". \n",
    "These tags describe the parts of the text stored in the \"text\" column that provide meaning for further analysis."
   ]
  },
  {
   "cell_type": "code",
   "execution_count": 30,
   "metadata": {},
   "outputs": [
    {
     "data": {
      "text/plain": [
       "<matplotlib.axes._subplots.AxesSubplot at 0x1a21751588>"
      ]
     },
     "execution_count": 30,
     "metadata": {},
     "output_type": "execute_result"
    },
    {
     "data": {
      "image/png": "[encoded data removed]",
      "text/plain": [
       "<Figure size 1080x576 with 1 Axes>"
      ]
     },
     "metadata": {},
     "output_type": "display_data"
    }
   ],
   "source": [
    "sns.set(style=\"darkgrid\")\n",
    "plt.figure(figsize=(15,8))\n",
    "ax = sns.countplot(y=\"intent\", data=df)\n",
    "ax"
   ]
  },
  {
   "cell_type": "markdown",
   "metadata": {},
   "source": [
    "A quick visualization of the frequency distribution of the labels present in the training data shows an overwhelming\n",
    "majority of the labels present are \"atis_flight\".\n",
    "\n",
    "Now, let's do another quick at the same information for the test dataset."
   ]
  },
  {
   "cell_type": "code",
   "execution_count": 36,
   "metadata": {},
   "outputs": [
    {
     "name": "stdout",
     "output_type": "stream",
     "text": [
      "Number of Samples 500\n",
      "Number of Intent 16\n"
     ]
    }
   ],
   "source": [
    "output_test,labels_test = pp.preprocess('test.iob')"
   ]
  },
  {
   "cell_type": "markdown",
   "metadata": {},
   "source": [
    "There are 500 rows of data in the training data set with 16 different labels that describe intent.\n",
    "Compared with our training data, this has a significantly less amount of rows (to be expected).\n",
    "The test data also does not contain as many labels present as the training set. Remember this!"
   ]
  },
  {
   "cell_type": "code",
   "execution_count": 48,
   "metadata": {},
   "outputs": [
    {
     "data": {
      "text/plain": [
       "(90, 10)"
      ]
     },
     "execution_count": 48,
     "metadata": {},
     "output_type": "execute_result"
    }
   ],
   "source": [
    "pct_output, pct_output_test = ((len(output) / (len(output) + len(output_test)))*100), ((len(output_test) / (len(output) + len(output_test)))*100)\n",
    "round(pct_output), round(pct_output_test)"
   ]
  },
  {
   "cell_type": "markdown",
   "metadata": {},
   "source": [
    "We see that the split between our training and testing data is 90% training and 10% testing. \n",
    "This may be important information for tuning later down the road if these splits may need to be adjusted."
   ]
  },
  {
   "cell_type": "code",
   "execution_count": 5,
   "metadata": {},
   "outputs": [
    {
     "data": {
      "text/html": [
       "<div>\n",
       "<style scoped>\n",
       "    .dataframe tbody tr th:only-of-type {\n",
       "        vertical-align: middle;\n",
       "    }\n",
       "\n",
       "    .dataframe tbody tr th {\n",
       "        vertical-align: top;\n",
       "    }\n",
       "\n",
       "    .dataframe thead th {\n",
       "        text-align: right;\n",
       "    }\n",
       "</style>\n",
       "<table border=\"1\" class=\"dataframe\">\n",
       "  <thead>\n",
       "    <tr style=\"text-align: right;\">\n",
       "      <th></th>\n",
       "      <th>intent</th>\n",
       "      <th>tags</th>\n",
       "      <th>text</th>\n",
       "    </tr>\n",
       "  </thead>\n",
       "  <tbody>\n",
       "    <tr>\n",
       "      <th>0</th>\n",
       "      <td>atis_flight</td>\n",
       "      <td>EOS O O O O O O B-fromloc.city_name O B-depar...</td>\n",
       "      <td>i want to fly from boston at 838 am and arriv...</td>\n",
       "    </tr>\n",
       "    <tr>\n",
       "      <th>1</th>\n",
       "      <td>atis_flight</td>\n",
       "      <td>EOS O O O O B-round_trip I-round_trip O O B-f...</td>\n",
       "      <td>show me all round trip flights between housto...</td>\n",
       "    </tr>\n",
       "    <tr>\n",
       "      <th>2</th>\n",
       "      <td>atis_flight</td>\n",
       "      <td>EOS O O O O O O O O O O B-fromloc.city_name O...</td>\n",
       "      <td>i would like some information on a flight fro...</td>\n",
       "    </tr>\n",
       "    <tr>\n",
       "      <th>3</th>\n",
       "      <td>atis_flight</td>\n",
       "      <td>EOS O O O O B-class_type O O B-fromloc.city_n...</td>\n",
       "      <td>what are the coach flights between dallas and...</td>\n",
       "    </tr>\n",
       "    <tr>\n",
       "      <th>4</th>\n",
       "      <td>atis_flight</td>\n",
       "      <td>EOS O O O O B-fromloc.city_name O O B-toloc.c...</td>\n",
       "      <td>i'm flying from boston to the bay area</td>\n",
       "    </tr>\n",
       "  </tbody>\n",
       "</table>\n",
       "</div>"
      ],
      "text/plain": [
       "        intent                                               tags  \\\n",
       "0  atis_flight   EOS O O O O O O B-fromloc.city_name O B-depar...   \n",
       "1  atis_flight   EOS O O O O B-round_trip I-round_trip O O B-f...   \n",
       "2  atis_flight   EOS O O O O O O O O O O B-fromloc.city_name O...   \n",
       "3  atis_flight   EOS O O O O B-class_type O O B-fromloc.city_n...   \n",
       "4  atis_flight   EOS O O O O B-fromloc.city_name O O B-toloc.c...   \n",
       "\n",
       "                                                text  \n",
       "0   i want to fly from boston at 838 am and arriv...  \n",
       "1   show me all round trip flights between housto...  \n",
       "2   i would like some information on a flight fro...  \n",
       "3   what are the coach flights between dallas and...  \n",
       "4             i'm flying from boston to the bay area  "
      ]
     },
     "execution_count": 5,
     "metadata": {},
     "output_type": "execute_result"
    }
   ],
   "source": [
    "df_test = pd.DataFrame.from_dict(output_test, orient='columns')\n",
    "df_test.head()"
   ]
  },
  {
   "cell_type": "markdown",
   "metadata": {},
   "source": [
    "Above, we verify that our test data is in the same format and contains the same data types as our training set."
   ]
  },
  {
   "cell_type": "code",
   "execution_count": 49,
   "metadata": {},
   "outputs": [
    {
     "data": {
      "text/plain": [
       "<matplotlib.axes._subplots.AxesSubplot at 0x1a21d68630>"
      ]
     },
     "execution_count": 49,
     "metadata": {},
     "output_type": "execute_result"
    },
    {
     "data": {
      "image/png": "[encoded data removed]",
      "text/plain": [
       "<Figure size 1080x576 with 1 Axes>"
      ]
     },
     "metadata": {},
     "output_type": "display_data"
    }
   ],
   "source": [
    "plt.figure(figsize=(15,8))\n",
    "ax_test = sns.countplot(y=\"intent\", data=df_test)\n",
    "ax_test"
   ]
  },
  {
   "cell_type": "markdown",
   "metadata": {},
   "source": [
    "Above, although we see that there are less labels to visualize, we can still verify that the majority of the labels\n",
    "in the test data are also \"atis_flight\"."
   ]
  },
  {
   "cell_type": "markdown",
   "metadata": {},
   "source": [
    "## Model Preparation, Ad-Hoc Analysis, Final Preprocessing"
   ]
  },
  {
   "cell_type": "markdown",
   "metadata": {},
   "source": [
    "Using pyspark to show thoughts about future scalability.\n",
    "First, let's create a Spark session and convert the Pandas dataframe into Spark dataframes. Let's also enable Arrow to optimmize this conversion process."
   ]
  },
  {
   "cell_type": "code",
   "execution_count": 6,
   "metadata": {},
   "outputs": [],
   "source": [
    "spark = SparkSession.builder.appName('nlp').getOrCreate()\n",
    "spark.conf.set(\"spark.sql.execution.arrow.enabled\", \"true\")\n",
    "spark_df = spark.createDataFrame(df)\n",
    "spark_df_test = spark.createDataFrame(df_test)"
   ]
  },
  {
   "cell_type": "markdown",
   "metadata": {},
   "source": [
    "Let's take a peek at both of our training and test Spark dataframes to make sure everything still looks good after the conversion."
   ]
  },
  {
   "cell_type": "code",
   "execution_count": 7,
   "metadata": {},
   "outputs": [
    {
     "name": "stdout",
     "output_type": "stream",
     "text": [
      "+-------------------+--------------------+--------------------+\n",
      "|             intent|                tags|                text|\n",
      "+-------------------+--------------------+--------------------+\n",
      "|        atis_flight| EOS O O O O O O ...| i want to fly fr...|\n",
      "|       atis_airfare| EOS O B-round_tr...| round trip fares...|\n",
      "|        atis_flight| EOS O O O O O O ...| show me the flig...|\n",
      "|        atis_flight| EOS O O O O O O ...| what are the fli...|\n",
      "|       atis_airline| EOS O O O O O B-...| which airlines f...|\n",
      "|        atis_flight| EOS O O O O O O ...| i'm looking for ...|\n",
      "|        atis_flight| EOS O O O O O B-...| okay and then fr...|\n",
      "|        atis_flight| EOS O O O O O O ...| show me all the ...|\n",
      "|        atis_flight| EOS O O O O O O ...| okay i'd like a ...|\n",
      "|        atis_flight| EOS O O B-depart...| on tuesday what ...|\n",
      "|        atis_flight| EOS O B-airline_...| american flights...|\n",
      "|atis_ground_service| EOS O O O O O O ...| what types of gr...|\n",
      "|        atis_flight| EOS O O O B-depa...| in the next two ...|\n",
      "|        atis_flight| EOS O O B-airlin...| does continental...|\n",
      "|        atis_flight| EOS O B-fromloc....| chicago to milwa...|\n",
      "|      atis_quantity| EOS O O O O O B-...| how many flights...|\n",
      "|        atis_flight| EOS O O O O O O ...| show me the flig...|\n",
      "|       atis_airfare| EOS O O O O O O ...| i'd like to find...|\n",
      "|      atis_quantity|   EOS O O O O O O O| how many booking...|\n",
      "|        atis_flight| EOS O O O O O O ...| what are the fli...|\n",
      "+-------------------+--------------------+--------------------+\n",
      "only showing top 20 rows\n",
      "\n"
     ]
    }
   ],
   "source": [
    "spark_df.show()"
   ]
  },
  {
   "cell_type": "code",
   "execution_count": 8,
   "metadata": {},
   "outputs": [
    {
     "name": "stdout",
     "output_type": "stream",
     "text": [
      "+-------------------+--------------------+--------------------+\n",
      "|             intent|                tags|                text|\n",
      "+-------------------+--------------------+--------------------+\n",
      "|        atis_flight| EOS O O O O O O ...| i want to fly fr...|\n",
      "|        atis_flight| EOS O O O O B-ro...| show me all roun...|\n",
      "|        atis_flight| EOS O O O O O O ...| i would like som...|\n",
      "|        atis_flight| EOS O O O O B-cl...| what are the coa...|\n",
      "|        atis_flight| EOS O O O O B-fr...| i'm flying from ...|\n",
      "|        atis_flight| EOS O O O O O O ...| okay can you tel...|\n",
      "|        atis_flight| EOS O O B-fromlo...| from montreal to...|\n",
      "|        atis_flight| EOS O O O O B-fl...| what is the earl...|\n",
      "|        atis_flight| EOS O O O B-from...| flights from pit...|\n",
      "|        atis_flight| EOS O O O O B-fl...| what is the late...|\n",
      "|        atis_flight| EOS O O O B-from...| flights from ont...|\n",
      "|       atis_airfare| EOS O O O O O O ...| i would like to ...|\n",
      "|        atis_flight| EOS O O O O O O ...| okay that sounds...|\n",
      "|       atis_airfare| EOS O O O O O O ...| show me the pric...|\n",
      "|        atis_flight| EOS O O O B-from...| flights from cin...|\n",
      "|        atis_flight| EOS O O O O O O ...| i'm interested i...|\n",
      "|        atis_flight| EOS O O B-depart...| i am interested ...|\n",
      "|        atis_flight| EOS O O O O O O ...| i'm looking for ...|\n",
      "|   atis_restriction| EOS O O O B-rest...| what's restricti...|\n",
      "|atis_ground_service| EOS O O O O O O ...| what types of gr...|\n",
      "+-------------------+--------------------+--------------------+\n",
      "only showing top 20 rows\n",
      "\n"
     ]
    }
   ],
   "source": [
    "spark_df_test.show()"
   ]
  },
  {
   "cell_type": "markdown",
   "metadata": {},
   "source": [
    "Looks good!\n",
    "\n",
    "Now, to focus on model preparation, we don't need the tags column to make this kind of analysis. So, let's go ahead and drop it from both the training and test Spark dataframes. We could have done this before the conversion, but choosing to drop it at this point in case we want to come back and use it for another model later on or want to do further analysis on it while it is still in a Pandas dataframe."
   ]
  },
  {
   "cell_type": "code",
   "execution_count": 9,
   "metadata": {},
   "outputs": [
    {
     "name": "stdout",
     "output_type": "stream",
     "text": [
      "+-------------------+--------------------+\n",
      "|             intent|                text|\n",
      "+-------------------+--------------------+\n",
      "|        atis_flight| i want to fly fr...|\n",
      "|       atis_airfare| round trip fares...|\n",
      "|        atis_flight| show me the flig...|\n",
      "|        atis_flight| what are the fli...|\n",
      "|       atis_airline| which airlines f...|\n",
      "|        atis_flight| i'm looking for ...|\n",
      "|        atis_flight| okay and then fr...|\n",
      "|        atis_flight| show me all the ...|\n",
      "|        atis_flight| okay i'd like a ...|\n",
      "|        atis_flight| on tuesday what ...|\n",
      "|        atis_flight| american flights...|\n",
      "|atis_ground_service| what types of gr...|\n",
      "|        atis_flight| in the next two ...|\n",
      "|        atis_flight| does continental...|\n",
      "|        atis_flight| chicago to milwa...|\n",
      "|      atis_quantity| how many flights...|\n",
      "|        atis_flight| show me the flig...|\n",
      "|       atis_airfare| i'd like to find...|\n",
      "|      atis_quantity| how many booking...|\n",
      "|        atis_flight| what are the fli...|\n",
      "+-------------------+--------------------+\n",
      "only showing top 20 rows\n",
      "\n"
     ]
    }
   ],
   "source": [
    "spark_df = spark_df.drop(\"tags\")\n",
    "spark_df.show()"
   ]
  },
  {
   "cell_type": "code",
   "execution_count": 10,
   "metadata": {
    "scrolled": true
   },
   "outputs": [
    {
     "name": "stdout",
     "output_type": "stream",
     "text": [
      "+-------------------+--------------------+\n",
      "|             intent|                text|\n",
      "+-------------------+--------------------+\n",
      "|        atis_flight| i want to fly fr...|\n",
      "|        atis_flight| show me all roun...|\n",
      "|        atis_flight| i would like som...|\n",
      "|        atis_flight| what are the coa...|\n",
      "|        atis_flight| i'm flying from ...|\n",
      "|        atis_flight| okay can you tel...|\n",
      "|        atis_flight| from montreal to...|\n",
      "|        atis_flight| what is the earl...|\n",
      "|        atis_flight| flights from pit...|\n",
      "|        atis_flight| what is the late...|\n",
      "|        atis_flight| flights from ont...|\n",
      "|       atis_airfare| i would like to ...|\n",
      "|        atis_flight| okay that sounds...|\n",
      "|       atis_airfare| show me the pric...|\n",
      "|        atis_flight| flights from cin...|\n",
      "|        atis_flight| i'm interested i...|\n",
      "|        atis_flight| i am interested ...|\n",
      "|        atis_flight| i'm looking for ...|\n",
      "|   atis_restriction| what's restricti...|\n",
      "|atis_ground_service| what types of gr...|\n",
      "+-------------------+--------------------+\n",
      "only showing top 20 rows\n",
      "\n"
     ]
    }
   ],
   "source": [
    "spark_df_test = spark_df_test.drop(\"tags\")\n",
    "spark_df_test.show()"
   ]
  },
  {
   "cell_type": "markdown",
   "metadata": {},
   "source": [
    "Still looking good! \n",
    "\n",
    "We are continuing to prep our data for modeling. We will need to use the length of the strings in the text \n",
    "columns for the model, so let's add a custom column that contains the length of the string in the text column."
   ]
  },
  {
   "cell_type": "code",
   "execution_count": 11,
   "metadata": {},
   "outputs": [
    {
     "name": "stdout",
     "output_type": "stream",
     "text": [
      "+--------------------+--------------------+------+\n",
      "|              intent|                text|length|\n",
      "+--------------------+--------------------+------+\n",
      "|         atis_flight| i want to travel...|   260|\n",
      "|        atis_airfare| round trip fares...|   217|\n",
      "|       atis_aircraft| all right would ...|   216|\n",
      "|        atis_airfare| round trip fares...|   211|\n",
      "|        atis_airfare| round trip fares...|   211|\n",
      "|       atis_aircraft| i'm going to lea...|   197|\n",
      "|         atis_flight| i would like to ...|   191|\n",
      "|      atis_flight_no| i would like the...|   176|\n",
      "|         atis_flight| what flights can...|   176|\n",
      "|         atis_flight| tell me about fl...|   170|\n",
      "|         atis_flight| please list all ...|   167|\n",
      "|atis_aircraft#ati...| i want to fly fr...|   165|\n",
      "|         atis_flight| i would like to ...|   161|\n",
      "|         atis_flight| i am interested ...|   158|\n",
      "|         atis_flight| i would like to ...|   156|\n",
      "|         atis_flight| i would like to ...|   156|\n",
      "|         atis_flight| i would like to ...|   154|\n",
      "|         atis_flight| could you please...|   154|\n",
      "|         atis_flight| i would like to ...|   152|\n",
      "|atis_airline#atis...| may i please see...|   151|\n",
      "|         atis_flight| i need a listing...|   150|\n",
      "|         atis_flight| okay what i woul...|   149|\n",
      "|         atis_flight| i'd like to see ...|   149|\n",
      "|         atis_flight| i'd like to see ...|   149|\n",
      "|         atis_flight| i would like to ...|   149|\n",
      "+--------------------+--------------------+------+\n",
      "only showing top 25 rows\n",
      "\n"
     ]
    }
   ],
   "source": [
    "spark_df = spark_df.withColumn('length',length(spark_df['text']))\n",
    "spark_df.orderBy(col(\"length\").desc()).show(25)"
   ]
  },
  {
   "cell_type": "markdown",
   "metadata": {},
   "source": [
    "We'll also continue to manipulate both the training and test data in the same way."
   ]
  },
  {
   "cell_type": "code",
   "execution_count": 12,
   "metadata": {},
   "outputs": [
    {
     "name": "stdout",
     "output_type": "stream",
     "text": [
      "+----------------+--------------------+------+\n",
      "|          intent|                text|length|\n",
      "+----------------+--------------------+------+\n",
      "|     atis_flight| find me the earl...|   180|\n",
      "|     atis_flight| find me the earl...|   179|\n",
      "|     atis_flight| i'd like to arra...|   166|\n",
      "|     atis_flight| i am interested ...|   162|\n",
      "|     atis_flight| great now what i...|   156|\n",
      "|     atis_flight| i would like the...|   144|\n",
      "|     atis_flight| thank you for th...|   139|\n",
      "|   atis_aircraft| well i'll try la...|   137|\n",
      "|     atis_flight| show me flights ...|   130|\n",
      "|     atis_flight| can you list all...|   125|\n",
      "|   atis_aircraft| sure i'd like to...|   125|\n",
      "|     atis_flight| i would like to ...|   123|\n",
      "|atis_flight_time| please give me t...|   122|\n",
      "|     atis_flight| could i have a l...|   121|\n",
      "|     atis_flight| i would like to ...|   120|\n",
      "|     atis_flight| okay that sounds...|   119|\n",
      "|atis_flight_time| i would like the...|   114|\n",
      "|     atis_flight| show me the chea...|   114|\n",
      "|     atis_flight| i'd like to go f...|   112|\n",
      "|    atis_airfare| okay we're going...|   112|\n",
      "|     atis_flight| what flights are...|   111|\n",
      "|     atis_flight| i need a flight ...|   111|\n",
      "|     atis_flight| give me informat...|   110|\n",
      "|     atis_flight| i would like to ...|   110|\n",
      "|     atis_flight| i want to fly fr...|   108|\n",
      "+----------------+--------------------+------+\n",
      "only showing top 25 rows\n",
      "\n"
     ]
    }
   ],
   "source": [
    "spark_df_test = spark_df_test.withColumn('length',length(spark_df_test['text']))\n",
    "spark_df_test.orderBy(col(\"length\").desc()).show(25)"
   ]
  },
  {
   "cell_type": "markdown",
   "metadata": {},
   "source": [
    "Hey, while we're here, maybe let's see if we can draw a bit more insight by counting the exact number of intent labels.\n",
    "We visualized this earlier in the Notebook, but now we can see some raw numbers."
   ]
  },
  {
   "cell_type": "code",
   "execution_count": 13,
   "metadata": {
    "scrolled": true
   },
   "outputs": [
    {
     "name": "stdout",
     "output_type": "stream",
     "text": [
      "+----------------------------------------+-----+\n",
      "|intent                                  |count|\n",
      "+----------------------------------------+-----+\n",
      "|atis_flight                             |3309 |\n",
      "|atis_airfare                            |385  |\n",
      "|atis_ground_service                     |230  |\n",
      "|atis_airline                            |139  |\n",
      "|atis_abbreviation                       |130  |\n",
      "|atis_aircraft                           |70   |\n",
      "|atis_flight_time                        |45   |\n",
      "|atis_quantity                           |41   |\n",
      "|atis_flight#atis_airfare                |19   |\n",
      "|atis_city                               |18   |\n",
      "|atis_airport                            |17   |\n",
      "|atis_distance                           |17   |\n",
      "|atis_capacity                           |15   |\n",
      "|atis_ground_fare                        |15   |\n",
      "|atis_flight_no                          |12   |\n",
      "|atis_meal                               |6    |\n",
      "|atis_restriction                        |5    |\n",
      "|atis_airline#atis_flight_no             |2    |\n",
      "|atis_aircraft#atis_flight#atis_flight_no|1    |\n",
      "|atis_ground_service#atis_ground_fare    |1    |\n",
      "|atis_cheapest                           |1    |\n",
      "+----------------------------------------+-----+\n",
      "\n"
     ]
    }
   ],
   "source": [
    "spark_df.groupBy(\"intent\").count().orderBy(col(\"count\").desc()).show(25, False)"
   ]
  },
  {
   "cell_type": "markdown",
   "metadata": {},
   "source": [
    "The atis_flight intent label is seen the greatest amount of time at 3,309 occurances.\n",
    "atis_aircraft#atis_flight#atis_flight_no, atis_ground_service#atis_ground_fare, and atis_cheapest all come in as a tie for last place with only 1 occurance in the dataset.\n",
    "\n",
    "Let's do the same check on the test data."
   ]
  },
  {
   "cell_type": "code",
   "execution_count": 14,
   "metadata": {
    "scrolled": true
   },
   "outputs": [
    {
     "name": "stdout",
     "output_type": "stream",
     "text": [
      "+-----------------------------+-----+\n",
      "|intent                       |count|\n",
      "+-----------------------------+-----+\n",
      "|atis_flight                  |357  |\n",
      "|atis_airfare                 |38   |\n",
      "|atis_ground_service          |25   |\n",
      "|atis_airline                 |18   |\n",
      "|atis_abbreviation            |17   |\n",
      "|atis_aircraft                |11   |\n",
      "|atis_quantity                |10   |\n",
      "|atis_flight_time             |9    |\n",
      "|atis_airport                 |3    |\n",
      "|atis_distance                |3    |\n",
      "|atis_ground_fare             |3    |\n",
      "|atis_flight#atis_airfare     |2    |\n",
      "|atis_capacity                |1    |\n",
      "|atis_restriction             |1    |\n",
      "|atis_airfare#atis_flight_time|1    |\n",
      "|atis_city                    |1    |\n",
      "+-----------------------------+-----+\n",
      "\n"
     ]
    }
   ],
   "source": [
    "spark_df_test.groupBy(\"intent\").count().orderBy(col(\"count\").desc()).show(25, False)"
   ]
  },
  {
   "cell_type": "markdown",
   "metadata": {},
   "source": [
    "Interesting. While atis_flight is still the clear winner in the test data, atis_capacity, atis_restriction, atis_airfare#atis_flight_time,\n",
    "and atis_city come in the tie for the least amount of occurances. From a very high level, this makes us feel more confident that \n",
    "there is an acceptable expectation of randomness in the datasets.\n",
    "\n",
    "While we're here, we might as well take a look at the average length of text that correspond to each intent label."
   ]
  },
  {
   "cell_type": "code",
   "execution_count": 15,
   "metadata": {},
   "outputs": [
    {
     "name": "stdout",
     "output_type": "stream",
     "text": [
      "+----------------------------------------+------------------+\n",
      "|intent                                  |avg(length)       |\n",
      "+----------------------------------------+------------------+\n",
      "|atis_aircraft#atis_flight#atis_flight_no|165.0             |\n",
      "|atis_ground_service#atis_ground_fare    |106.0             |\n",
      "|atis_airline#atis_flight_no             |103.0             |\n",
      "|atis_flight_no                          |92.83333333333333 |\n",
      "|atis_flight#atis_airfare                |77.21052631578948 |\n",
      "|atis_aircraft                           |77.0              |\n",
      "|atis_flight_time                        |74.08888888888889 |\n",
      "|atis_airfare                            |67.83116883116882 |\n",
      "|atis_flight                             |66.80568147476579 |\n",
      "|atis_quantity                           |63.8780487804878  |\n",
      "|atis_distance                           |59.05882352941177 |\n",
      "|atis_ground_service                     |56.65217391304348 |\n",
      "|atis_airline                            |54.29496402877698 |\n",
      "|atis_ground_fare                        |54.13333333333333 |\n",
      "|atis_restriction                        |51.2              |\n",
      "|atis_meal                               |50.5              |\n",
      "|atis_city                               |48.166666666666664|\n",
      "|atis_capacity                           |45.8              |\n",
      "|atis_cheapest                           |42.0              |\n",
      "|atis_airport                            |32.88235294117647 |\n",
      "|atis_abbreviation                       |24.346153846153847|\n",
      "+----------------------------------------+------------------+\n",
      "\n"
     ]
    }
   ],
   "source": [
    "spark_df.groupby('intent').mean().orderBy(col(\"avg(length)\").desc()).show(25, False)"
   ]
  },
  {
   "cell_type": "markdown",
   "metadata": {},
   "source": [
    "Looks like text that contains the highest amount of words/characters is text that has the atis_aircraft#atis_flight#atis_flight_no intent.\n",
    "\n",
    "Looks like text that contains the least amount of words/characters is text that has the atis_abbreviation intent label."
   ]
  },
  {
   "cell_type": "code",
   "execution_count": 16,
   "metadata": {},
   "outputs": [
    {
     "name": "stdout",
     "output_type": "stream",
     "text": [
      "+-----------------------------+------------------+\n",
      "|intent                       |avg(length)       |\n",
      "+-----------------------------+------------------+\n",
      "|atis_flight_time             |82.88888888888889 |\n",
      "|atis_aircraft                |80.72727272727273 |\n",
      "|atis_flight#atis_airfare     |75.0              |\n",
      "|atis_airfare#atis_flight_time|70.0              |\n",
      "|atis_flight                  |68.63585434173669 |\n",
      "|atis_airfare                 |66.63157894736842 |\n",
      "|atis_distance                |63.333333333333336|\n",
      "|atis_quantity                |59.4              |\n",
      "|atis_ground_fare             |57.333333333333336|\n",
      "|atis_ground_service          |54.28             |\n",
      "|atis_airline                 |51.94444444444444 |\n",
      "|atis_capacity                |42.0              |\n",
      "|atis_airport                 |32.666666666666664|\n",
      "|atis_abbreviation            |26.058823529411764|\n",
      "|atis_restriction             |24.0              |\n",
      "|atis_city                    |17.0              |\n",
      "+-----------------------------+------------------+\n",
      "\n"
     ]
    }
   ],
   "source": [
    "spark_df_test.groupby('intent').mean().orderBy(col(\"avg(length)\").desc()).show(25, False)"
   ]
  },
  {
   "cell_type": "markdown",
   "metadata": {},
   "source": [
    "For the test dataset, looks like text that contains the highest amount of words/characters is text that has the atis_flight_time intent label. \n",
    "Looks like text that contains the least amount of words/characters is text that has the atis_city intent label.\n",
    "\n",
    "Further statistical analysis can be done to understand these differences in average between the training and test data better, \n",
    "but I'm sure there is further insight to discover here."
   ]
  },
  {
   "cell_type": "markdown",
   "metadata": {},
   "source": [
    "Finally, we arrive at some true manipulation needed for NLP ML Pipeline. \n",
    "\n",
    "1. First, we create a new token_text column computed after tokenizing our text column. \n",
    "Tokenization is the process of taking text (such as a sentence) and breaking it into individual terms (usually words)\n",
    "2. Stop words are words which should be excluded from the input, typically because the words appear frequently \n",
    "and don’t carry as much meaning. StopWordsRemover takes as input a sequence of strings (e.g. the output of a Tokenizer) \n",
    "and drops all the stop words from the input sequences. \n",
    "3. CountVectorizer will help convert a collection of text documents to vectors of token counts.\n",
    "4. IDF is a feature vectorization method used to reflect the importance of a term to a document in the corpus.\n",
    "5. StringIndexer encodes a string column of labels to a column of label indices. In this case, it creates a numeric \n",
    "values to represent intent labels. Also, remember when we said to remember that our training and test data had a \n",
    "different number of intent labels? The handleInvalid='keep' parameter is important here to align the dimensionality \n",
    "of our training and test datasets.\n",
    "6. And finally, the VectorAssembler is a transformer that combines a given list of columns into a single vector column. \n",
    "This is the important and unique part of these Spark dataframes."
   ]
  },
  {
   "cell_type": "code",
   "execution_count": 54,
   "metadata": {},
   "outputs": [],
   "source": [
    "tokenizer = Tokenizer(inputCol=\"text\", outputCol=\"token_text\")\n",
    "stopremove = StopWordsRemover(inputCol='token_text',outputCol='stop_tokens')\n",
    "count_vec = CountVectorizer(inputCol='stop_tokens',outputCol='c_vec')\n",
    "idf = IDF(inputCol=\"c_vec\", outputCol=\"tf_idf\")\n",
    "to_num = StringIndexer(inputCol='intent',outputCol='label', handleInvalid='keep')\n",
    "clean_up = VectorAssembler(inputCols=['tf_idf','length'],outputCol='features')"
   ]
  },
  {
   "cell_type": "markdown",
   "metadata": {},
   "source": [
    "Create a pipeline to execute these different manipulation stages and fit it on the training data."
   ]
  },
  {
   "cell_type": "code",
   "execution_count": 18,
   "metadata": {},
   "outputs": [],
   "source": [
    "data_prep_pipe = Pipeline(stages=[to_num,tokenizer,stopremove,count_vec,idf,clean_up])\n",
    "cleaner = data_prep_pipe.fit(spark_df)"
   ]
  },
  {
   "cell_type": "markdown",
   "metadata": {},
   "source": [
    "Transform the dataframe according to the stages of the pipeline.\n",
    "Select the label and features columns to create a final version of the prepared training data to be used in the model."
   ]
  },
  {
   "cell_type": "code",
   "execution_count": 19,
   "metadata": {},
   "outputs": [
    {
     "name": "stdout",
     "output_type": "stream",
     "text": [
      "+-----+--------------------+\n",
      "|label|            features|\n",
      "+-----+--------------------+\n",
      "|  0.0|(771,[10,11,20,25...|\n",
      "|  1.0|(771,[6,9,11,12,2...|\n",
      "|  0.0|(771,[1,4,11,35,1...|\n",
      "|  0.0|(771,[1,5,7,16,19...|\n",
      "|  3.0|(771,[3,15,16,20,...|\n",
      "|  0.0|(771,[2,57,59,67,...|\n",
      "|  0.0|(771,[8,9,13,139,...|\n",
      "|  0.0|(771,[1,4,12,140,...|\n",
      "|  0.0|(771,[2,5,13,34,3...|\n",
      "|  0.0|(771,[1,44,54,57,...|\n",
      "|  0.0|(771,[1,21,38,69,...|\n",
      "|  2.0|(771,[5,7,26,28,5...|\n",
      "|  0.0|(771,[5,20,41,84,...|\n",
      "|  0.0|(771,[5,6,7,15,20...|\n",
      "|  0.0|(771,[58,69,770],...|\n",
      "|  7.0|(771,[1,32,111,11...|\n",
      "|  0.0|(771,[1,4,10,11,2...|\n",
      "|  1.0|(771,[3,12,13,22,...|\n",
      "|  7.0|(771,[117,251,363...|\n",
      "|  0.0|(771,[1,5,27,124,...|\n",
      "+-----+--------------------+\n",
      "only showing top 20 rows\n",
      "\n"
     ]
    }
   ],
   "source": [
    "clean_data = cleaner.transform(spark_df)\n",
    "clean_data = clean_data.select(['label','features'])\n",
    "clean_data.show()"
   ]
  },
  {
   "cell_type": "code",
   "execution_count": null,
   "metadata": {},
   "outputs": [],
   "source": [
    "Apply the transformation to the test dataframe as well (only fit on training data).\n",
    "Select the label and features columns to create a final version of the prepared training data to be used in the model."
   ]
  },
  {
   "cell_type": "code",
   "execution_count": 20,
   "metadata": {},
   "outputs": [
    {
     "name": "stdout",
     "output_type": "stream",
     "text": [
      "+-----+--------------------+\n",
      "|label|            features|\n",
      "+-----+--------------------+\n",
      "|  0.0|(771,[3,6,20,21,4...|\n",
      "|  0.0|(771,[1,4,25,29,6...|\n",
      "|  0.0|(771,[2,5,6,7,13,...|\n",
      "|  0.0|(771,[1,10,11,17,...|\n",
      "|  0.0|(771,[3,183,405,7...|\n",
      "|  0.0|(771,[2,6,8,89,99...|\n",
      "|  0.0|(771,[67,68,119,7...|\n",
      "|  0.0|(771,[2,12,48,80,...|\n",
      "|  0.0|(771,[1,9,11,19,1...|\n",
      "|  0.0|(771,[2,3,5,7,98,...|\n",
      "|  0.0|(771,[1,227,260,7...|\n",
      "|  1.0|(771,[2,6,11,13,2...|\n",
      "|  0.0|(771,[8,10,21,22,...|\n",
      "|  1.0|(771,[1,4,8,16,47...|\n",
      "|  0.0|(771,[1,38,137,14...|\n",
      "|  0.0|(771,[2,8,9,214,7...|\n",
      "|  0.0|(771,[2,10,21,60,...|\n",
      "|  0.0|(771,[2,6,10,24,8...|\n",
      "| 16.0|(771,[202,770],[5...|\n",
      "|  2.0|(771,[12,26,28,34...|\n",
      "+-----+--------------------+\n",
      "only showing top 20 rows\n",
      "\n"
     ]
    }
   ],
   "source": [
    "clean_data_test = cleaner.transform(spark_df_test)\n",
    "clean_data_test = clean_data_test.select(['label','features'])\n",
    "clean_data_test.show()"
   ]
  },
  {
   "cell_type": "markdown",
   "metadata": {},
   "source": [
    "Create the training model.\n",
    "We'll use the Naive Bayes Classifier because it works well for multiclass text classification."
   ]
  },
  {
   "cell_type": "code",
   "execution_count": 21,
   "metadata": {},
   "outputs": [],
   "source": [
    "nb = NaiveBayes()"
   ]
  },
  {
   "cell_type": "markdown",
   "metadata": {},
   "source": [
    "Fit the Naive Bayes model to the final cleaned data.\n",
    "Save the model to be used for distribution."
   ]
  },
  {
   "cell_type": "code",
   "execution_count": 55,
   "metadata": {},
   "outputs": [],
   "source": [
    "nb_model = nb.fit(clean_data)\n",
    "nb_model.save(\"AtisIntentModel\")"
   ]
  },
  {
   "cell_type": "markdown",
   "metadata": {},
   "source": [
    "Apply the trained model to the final cleaned test data and view the results."
   ]
  },
  {
   "cell_type": "code",
   "execution_count": 56,
   "metadata": {},
   "outputs": [
    {
     "name": "stdout",
     "output_type": "stream",
     "text": [
      "+-----+--------------------+--------------------+--------------------+----------+\n",
      "|label|            features|       rawPrediction|         probability|prediction|\n",
      "+-----+--------------------+--------------------+--------------------+----------+\n",
      "|  0.0|(771,[3,6,20,21,4...|[-262.60829273404...|[0.90773958661435...|       0.0|\n",
      "|  0.0|(771,[1,4,25,29,6...|[-152.94190779362...|[0.99961058009422...|       0.0|\n",
      "|  0.0|(771,[2,5,6,7,13,...|[-136.82394603755...|[0.99999971679131...|       0.0|\n",
      "|  0.0|(771,[1,10,11,17,...|[-266.83317010945...|[0.99999436188869...|       0.0|\n",
      "|  0.0|(771,[3,183,405,7...|[-136.31286220297...|[1.14885453396266...|       5.0|\n",
      "|  0.0|(771,[2,6,8,89,99...|[-151.44490095486...|[9.73804853776641...|       1.0|\n",
      "|  0.0|(771,[67,68,119,7...|[-93.175953670689...|[0.99999979510715...|       0.0|\n",
      "|  0.0|(771,[2,12,48,80,...|[-159.70310486567...|[0.99999999661637...|       0.0|\n",
      "|  0.0|(771,[1,9,11,19,1...|[-133.98816300143...|[0.99998803321003...|       0.0|\n",
      "|  0.0|(771,[2,3,5,7,98,...|[-117.30578773329...|[0.99999985322498...|       0.0|\n",
      "|  0.0|(771,[1,227,260,7...|[-108.94791560563...|[0.99998689548459...|       0.0|\n",
      "|  1.0|(771,[2,6,11,13,2...|[-168.72743734310...|[6.46909538906329...|       1.0|\n",
      "|  0.0|(771,[8,10,21,22,...|[-452.23379475195...|[2.36767778513376...|       1.0|\n",
      "|  1.0|(771,[1,4,8,16,47...|[-138.58696908563...|[3.00627607818074...|       1.0|\n",
      "|  0.0|(771,[1,38,137,14...|[-181.83946594835...|[0.99998883118864...|       0.0|\n",
      "|  0.0|(771,[2,8,9,214,7...|[-89.175637316533...|[0.99993292716306...|       0.0|\n",
      "|  0.0|(771,[2,10,21,60,...|[-625.66171904349...|[0.99999999999999...|       0.0|\n",
      "|  0.0|(771,[2,6,10,24,8...|[-199.97566874470...|[0.99999404541128...|       0.0|\n",
      "| 16.0|(771,[202,770],[5...|[-73.909482552936...|[3.46227716684221...|       4.0|\n",
      "|  2.0|(771,[12,26,28,34...|[-196.83517877267...|[2.53609401494527...|       2.0|\n",
      "+-----+--------------------+--------------------+--------------------+----------+\n",
      "only showing top 20 rows\n",
      "\n"
     ]
    }
   ],
   "source": [
    "test_results = nb_model.transform(clean_data_test)\n",
    "test_results.show()"
   ]
  },
  {
   "cell_type": "markdown",
   "metadata": {},
   "source": [
    "Evaluate the accuracy of the model when applied to the test data."
   ]
  },
  {
   "cell_type": "code",
   "execution_count": 57,
   "metadata": {},
   "outputs": [
    {
     "name": "stdout",
     "output_type": "stream",
     "text": [
      "Accuracy of model at predicting was: 0.8887484743919528\n"
     ]
    }
   ],
   "source": [
    "acc_eval = MulticlassClassificationEvaluator()\n",
    "acc = acc_eval.evaluate(test_results)\n",
    "print(\"Accuracy of model at predicting was: {}\".format(acc))"
   ]
  },
  {
   "cell_type": "markdown",
   "metadata": {},
   "source": [
    "Around 88% accuracy? Not bad. We can continue trying new models, try optimized parameters, try using neural networks, \n",
    "or even probe deeper into the data itself to improve. "
   ]
  }
 ],
 "metadata": {
  "kernelspec": {
   "display_name": "Python 3",
   "language": "python",
   "name": "python3"
  },
  "language_info": {
   "codemirror_mode": {
    "name": "ipython",
    "version": 3
   },
   "file_extension": ".py",
   "mimetype": "text/x-python",
   "name": "python",
   "nbconvert_exporter": "python",
   "pygments_lexer": "ipython3",
   "version": "3.7.3"
  }
 },
 "nbformat": 4,
 "nbformat_minor": 2
}
